{
  "nbformat": 4,
  "nbformat_minor": 0,
  "metadata": {
    "colab": {
      "name": "Untitled20.ipynb",
      "provenance": [],
      "collapsed_sections": []
    },
    "kernelspec": {
      "name": "python3",
      "display_name": "Python 3"
    },
    "language_info": {
      "name": "python"
    }
  },
  "cells": [
    {
      "cell_type": "code",
      "metadata": {
        "id": "ym31Qx7BdZmx"
      },
      "source": [
        ""
      ],
      "execution_count": null,
      "outputs": []
    },
    {
      "cell_type": "markdown",
      "metadata": {
        "id": "dQNZo8jmdaRa"
      },
      "source": [
        "Открытый урок по python: написание телеграм бота \n",
        "1) о python сферы \n",
        "2) что будем делать мы? \n",
        "3) типы данных и переменные в питоне\n",
        "3) условия \n",
        "4) ипортинг файлов \n",
        "5) установка модуля \n",
        "6) о ботах, механика бесконечного цикла \n",
        "7) отец ботов \n",
        "8) первичная настройка \n",
        "9) hello world с ботом  \n",
        "10) какие функции есть у ботов сейчас, что можно делать \n",
        "11) отправка стикера\n",
        "12) отправка картинки \n",
        "13) включаем inline режим"
      ]
    }
  ]
}
